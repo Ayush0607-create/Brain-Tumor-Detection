{
 "cells": [
  {
   "cell_type": "markdown",
   "metadata": {
    "_cell_guid": "79c7e3d0-c299-4dcb-8224-4455121ee9b0",
    "_uuid": "d629ff2d2480ee46fbb7e2d37f6b5fab8052498a",
    "papermill": {
     "duration": 8.107497,
     "end_time": "2021-01-13T19:04:10.359532",
     "exception": false,
     "start_time": "2021-01-13T19:04:02.252035",
     "status": "completed"
    },
    "tags": []
   },
   "source": [
    "## Importing libraries"
   ]
  },
  {
   "cell_type": "code",
   "execution_count": 1,
   "metadata": {},
   "outputs": [],
   "source": [
    "import numpy as np\n",
    "import pandas as pd\n",
    "import os\n",
    "from warnings import filterwarnings\n",
    "filterwarnings(\"ignore\")\n",
    "import keras \n",
    "import tensorflow as tf\n",
    "from keras.models import Sequential\n",
    "from keras import layers\n",
    "from PIL import Image\n",
    "import matplotlib.pyplot as plt\n",
    "from sklearn.model_selection import train_test_split\n",
    "from sklearn.preprocessing import OneHotEncoder "
   ]
  },
  {
   "cell_type": "markdown",
   "metadata": {
    "papermill": {
     "duration": 0.013964,
     "end_time": "2021-01-13T19:04:10.387998",
     "exception": false,
     "start_time": "2021-01-13T19:04:10.374034",
     "status": "completed"
    },
    "tags": []
   },
   "source": [
    "## Encoding the Target"
   ]
  },
  {
   "cell_type": "code",
   "execution_count": 2,
   "metadata": {
    "papermill": {
     "duration": 0.030157,
     "end_time": "2021-01-13T19:04:10.432405",
     "exception": false,
     "start_time": "2021-01-13T19:04:10.402248",
     "status": "completed"
    },
    "tags": []
   },
   "outputs": [
    {
     "data": {
      "text/plain": [
       "OneHotEncoder()"
      ]
     },
     "execution_count": 2,
     "metadata": {},
     "output_type": "execute_result"
    }
   ],
   "source": [
    "encoder = OneHotEncoder()\n",
    "encoder.fit([[0], [1]]) # 0 - present, 1 - not present"
   ]
  },
  {
   "cell_type": "code",
   "execution_count": 3,
   "metadata": {
    "papermill": {
     "duration": 1.467737,
     "end_time": "2021-01-13T19:04:11.944810",
     "exception": false,
     "start_time": "2021-01-13T19:04:10.477073",
     "status": "completed"
    },
    "tags": []
   },
   "outputs": [],
   "source": [
    "# With\n",
    "\n",
    "data = [] # storing images in numpy array format\n",
    "paths = [] # paths for individual images\n",
    "result = [] # answers\n",
    "\n",
    "for r, d, f in os.walk(r'./yes'):\n",
    "    for file in f:\n",
    "        if '.jpg' in file:\n",
    "            paths.append(os.path.join(r, file))\n",
    "\n",
    "for path in paths:\n",
    "    img = Image.open(path)\n",
    "    img = img.resize((128,128))\n",
    "    img = np.array(img)\n",
    "    if(img.shape == (128,128,3)):\n",
    "        data.append(np.array(img))\n",
    "        result.append(encoder.transform([[0]]).toarray())"
   ]
  },
  {
   "cell_type": "code",
   "execution_count": 4,
   "metadata": {
    "papermill": {
     "duration": 1.078081,
     "end_time": "2021-01-13T19:04:13.038146",
     "exception": false,
     "start_time": "2021-01-13T19:04:11.960065",
     "status": "completed"
    },
    "tags": []
   },
   "outputs": [],
   "source": [
    "# Without\n",
    "\n",
    "paths = []\n",
    "for r, d, f in os.walk(r\"./no\"):\n",
    "    for file in f:\n",
    "        if '.jpg' in file:\n",
    "            paths.append(os.path.join(r, file))\n",
    "\n",
    "for path in paths:\n",
    "    img = Image.open(path)\n",
    "    img = img.resize((128,128))\n",
    "    img = np.array(img)\n",
    "    if(img.shape == (128,128,3)):\n",
    "        data.append(np.array(img))\n",
    "        result.append(encoder.transform([[1]]).toarray())"
   ]
  },
  {
   "cell_type": "code",
   "execution_count": 5,
   "metadata": {
    "papermill": {
     "duration": 0.031647,
     "end_time": "2021-01-13T19:04:13.086256",
     "exception": false,
     "start_time": "2021-01-13T19:04:13.054609",
     "status": "completed"
    },
    "tags": []
   },
   "outputs": [
    {
     "data": {
      "text/plain": [
       "(140, 128, 128, 3)"
      ]
     },
     "execution_count": 5,
     "metadata": {},
     "output_type": "execute_result"
    }
   ],
   "source": [
    "data = np.array(data)\n",
    "data.shape"
   ]
  },
  {
   "cell_type": "code",
   "execution_count": null,
   "metadata": {
    "papermill": {
     "duration": 0.025052,
     "end_time": "2021-01-13T19:04:13.126878",
     "exception": false,
     "start_time": "2021-01-13T19:04:13.101826",
     "status": "completed"
    },
    "tags": []
   },
   "outputs": [],
   "source": [
    "result = np.array(result)\n",
    "result = result.reshape(139,2)"
   ]
  },
  {
   "cell_type": "code",
   "execution_count": 23,
   "metadata": {
    "papermill": {
     "duration": 0.027054,
     "end_time": "2021-01-13T19:04:13.201267",
     "exception": false,
     "start_time": "2021-01-13T19:04:13.174213",
     "status": "completed"
    },
    "tags": []
   },
   "outputs": [],
   "source": [
    "x_train,x_test,y_train,y_test = train_test_split(data, result, test_size=0.2, shuffle=True, random_state=0)"
   ]
  },
  {
   "cell_type": "markdown",
   "metadata": {
    "papermill": {
     "duration": 0.015584,
     "end_time": "2021-01-13T19:04:13.232970",
     "exception": false,
     "start_time": "2021-01-13T19:04:13.217386",
     "status": "completed"
    },
    "tags": []
   },
   "source": [
    "## Model Building"
   ]
  },
  {
   "cell_type": "code",
   "execution_count": 24,
   "metadata": {
    "papermill": {
     "duration": 0.618409,
     "end_time": "2021-01-13T19:04:13.898494",
     "exception": false,
     "start_time": "2021-01-13T19:04:13.280085",
     "status": "completed"
    },
    "tags": []
   },
   "outputs": [
    {
     "name": "stderr",
     "output_type": "stream",
     "text": [
      "2021-12-11 18:42:52.851145: I tensorflow/stream_executor/cuda/cuda_gpu_executor.cc:937] successful NUMA node read from SysFS had negative value (-1), but there must be at least one NUMA node, so returning NUMA node zero\n",
      "2021-12-11 18:42:52.900205: I tensorflow/stream_executor/cuda/cuda_gpu_executor.cc:937] successful NUMA node read from SysFS had negative value (-1), but there must be at least one NUMA node, so returning NUMA node zero\n",
      "2021-12-11 18:42:52.900530: I tensorflow/stream_executor/cuda/cuda_gpu_executor.cc:937] successful NUMA node read from SysFS had negative value (-1), but there must be at least one NUMA node, so returning NUMA node zero\n",
      "2021-12-11 18:42:52.901526: I tensorflow/core/platform/cpu_feature_guard.cc:142] This TensorFlow binary is optimized with oneAPI Deep Neural Network Library (oneDNN) to use the following CPU instructions in performance-critical operations:  AVX2 FMA\n",
      "To enable them in other operations, rebuild TensorFlow with the appropriate compiler flags.\n",
      "2021-12-11 18:42:52.902076: I tensorflow/stream_executor/cuda/cuda_gpu_executor.cc:937] successful NUMA node read from SysFS had negative value (-1), but there must be at least one NUMA node, so returning NUMA node zero\n",
      "2021-12-11 18:42:52.902421: I tensorflow/stream_executor/cuda/cuda_gpu_executor.cc:937] successful NUMA node read from SysFS had negative value (-1), but there must be at least one NUMA node, so returning NUMA node zero\n",
      "2021-12-11 18:42:52.902728: I tensorflow/stream_executor/cuda/cuda_gpu_executor.cc:937] successful NUMA node read from SysFS had negative value (-1), but there must be at least one NUMA node, so returning NUMA node zero\n",
      "2021-12-11 18:42:53.804504: I tensorflow/stream_executor/cuda/cuda_gpu_executor.cc:937] successful NUMA node read from SysFS had negative value (-1), but there must be at least one NUMA node, so returning NUMA node zero\n",
      "2021-12-11 18:42:53.804951: I tensorflow/stream_executor/cuda/cuda_gpu_executor.cc:937] successful NUMA node read from SysFS had negative value (-1), but there must be at least one NUMA node, so returning NUMA node zero\n",
      "2021-12-11 18:42:53.805242: I tensorflow/stream_executor/cuda/cuda_gpu_executor.cc:937] successful NUMA node read from SysFS had negative value (-1), but there must be at least one NUMA node, so returning NUMA node zero\n",
      "2021-12-11 18:42:53.805450: I tensorflow/core/common_runtime/gpu/gpu_device.cc:1510] Created device /job:localhost/replica:0/task:0/device:GPU:0 with 2135 MB memory:  -> device: 0, name: NVIDIA GeForce GTX 1650, pci bus id: 0000:01:00.0, compute capability: 7.5\n"
     ]
    },
    {
     "name": "stdout",
     "output_type": "stream",
     "text": [
      "Model: \"sequential\"\n",
      "_________________________________________________________________\n",
      "Layer (type)                 Output Shape              Param #   \n",
      "=================================================================\n",
      "conv2d (Conv2D)              (None, 128, 128, 32)      416       \n",
      "_________________________________________________________________\n",
      "conv2d_1 (Conv2D)            (None, 128, 128, 32)      4128      \n",
      "_________________________________________________________________\n",
      "batch_normalization (BatchNo (None, 128, 128, 32)      128       \n",
      "_________________________________________________________________\n",
      "max_pooling2d (MaxPooling2D) (None, 64, 64, 32)        0         \n",
      "_________________________________________________________________\n",
      "dropout (Dropout)            (None, 64, 64, 32)        0         \n",
      "_________________________________________________________________\n",
      "conv2d_2 (Conv2D)            (None, 64, 64, 64)        8256      \n",
      "_________________________________________________________________\n",
      "conv2d_3 (Conv2D)            (None, 64, 64, 64)        16448     \n",
      "_________________________________________________________________\n",
      "batch_normalization_1 (Batch (None, 64, 64, 64)        256       \n",
      "_________________________________________________________________\n",
      "max_pooling2d_1 (MaxPooling2 (None, 32, 32, 64)        0         \n",
      "_________________________________________________________________\n",
      "dropout_1 (Dropout)          (None, 32, 32, 64)        0         \n",
      "_________________________________________________________________\n",
      "flatten (Flatten)            (None, 65536)             0         \n",
      "_________________________________________________________________\n",
      "dense (Dense)                (None, 512)               33554944  \n",
      "_________________________________________________________________\n",
      "dropout_2 (Dropout)          (None, 512)               0         \n",
      "_________________________________________________________________\n",
      "dense_1 (Dense)              (None, 2)                 1026      \n",
      "=================================================================\n",
      "Total params: 33,585,602\n",
      "Trainable params: 33,585,410\n",
      "Non-trainable params: 192\n",
      "_________________________________________________________________\n",
      "None\n"
     ]
    }
   ],
   "source": [
    "model = Sequential()\n",
    "\n",
    "model.add(layers.Conv2D(32, kernel_size=(2, 2), input_shape=(128, 128, 3), padding = 'Same'))\n",
    "model.add(layers.Conv2D(32, kernel_size=(2, 2),  activation ='relu', padding = 'Same'))\n",
    "\n",
    "\n",
    "model.add(layers.BatchNormalization())\n",
    "model.add(layers.MaxPooling2D(pool_size=(2, 2)))\n",
    "model.add(layers.Dropout(0.25))\n",
    "\n",
    "model.add(layers.Conv2D(64, kernel_size = (2,2), activation ='relu', padding = 'Same'))\n",
    "model.add(layers.Conv2D(64, kernel_size = (2,2), activation ='relu', padding = 'Same'))\n",
    "\n",
    "model.add(layers.BatchNormalization())\n",
    "model.add(layers.MaxPooling2D(pool_size=(2,2), strides=(2,2)))\n",
    "model.add(layers.Dropout(0.25))\n",
    "\n",
    "model.add(layers.Flatten())\n",
    "\n",
    "model.add(layers.Dense(512, activation='relu'))\n",
    "model.add(layers.Dropout(0.5))\n",
    "model.add(layers.Dense(2, activation='softmax'))\n",
    "\n",
    "optimizer = tf.keras.optimizers.Adam(learning_rate=0.0001)\n",
    "model.compile(loss = \"categorical_crossentropy\", optimizer=optimizer, metrics=['acc'])\n",
    "print(model.summary())"
   ]
  },
  {
   "cell_type": "code",
   "execution_count": 25,
   "metadata": {
    "papermill": {
     "duration": 0.02587,
     "end_time": "2021-01-13T19:04:13.942537",
     "exception": false,
     "start_time": "2021-01-13T19:04:13.916667",
     "status": "completed"
    },
    "tags": []
   },
   "outputs": [
    {
     "data": {
      "text/plain": [
       "(112, 1, 2)"
      ]
     },
     "execution_count": 25,
     "metadata": {},
     "output_type": "execute_result"
    }
   ],
   "source": [
    "y_train.shape"
   ]
  },
  {
   "cell_type": "code",
   "execution_count": 26,
   "metadata": {
    "collapsed": true,
    "jupyter": {
     "outputs_hidden": true
    },
    "tags": []
   },
   "outputs": [
    {
     "data": {
      "text/plain": [
       "array([[[1., 0.]],\n",
       "\n",
       "       [[1., 0.]],\n",
       "\n",
       "       [[1., 0.]],\n",
       "\n",
       "       [[1., 0.]],\n",
       "\n",
       "       [[0., 1.]],\n",
       "\n",
       "       [[1., 0.]],\n",
       "\n",
       "       [[0., 1.]],\n",
       "\n",
       "       [[0., 1.]],\n",
       "\n",
       "       [[1., 0.]],\n",
       "\n",
       "       [[0., 1.]],\n",
       "\n",
       "       [[0., 1.]],\n",
       "\n",
       "       [[0., 1.]],\n",
       "\n",
       "       [[1., 0.]],\n",
       "\n",
       "       [[1., 0.]],\n",
       "\n",
       "       [[1., 0.]],\n",
       "\n",
       "       [[0., 1.]],\n",
       "\n",
       "       [[0., 1.]],\n",
       "\n",
       "       [[0., 1.]],\n",
       "\n",
       "       [[0., 1.]],\n",
       "\n",
       "       [[0., 1.]],\n",
       "\n",
       "       [[0., 1.]],\n",
       "\n",
       "       [[1., 0.]],\n",
       "\n",
       "       [[1., 0.]],\n",
       "\n",
       "       [[0., 1.]],\n",
       "\n",
       "       [[0., 1.]],\n",
       "\n",
       "       [[0., 1.]],\n",
       "\n",
       "       [[1., 0.]],\n",
       "\n",
       "       [[1., 0.]],\n",
       "\n",
       "       [[1., 0.]],\n",
       "\n",
       "       [[1., 0.]],\n",
       "\n",
       "       [[0., 1.]],\n",
       "\n",
       "       [[1., 0.]],\n",
       "\n",
       "       [[1., 0.]],\n",
       "\n",
       "       [[1., 0.]],\n",
       "\n",
       "       [[0., 1.]],\n",
       "\n",
       "       [[0., 1.]],\n",
       "\n",
       "       [[1., 0.]],\n",
       "\n",
       "       [[0., 1.]],\n",
       "\n",
       "       [[1., 0.]],\n",
       "\n",
       "       [[0., 1.]],\n",
       "\n",
       "       [[0., 1.]],\n",
       "\n",
       "       [[0., 1.]],\n",
       "\n",
       "       [[0., 1.]],\n",
       "\n",
       "       [[1., 0.]],\n",
       "\n",
       "       [[0., 1.]],\n",
       "\n",
       "       [[0., 1.]],\n",
       "\n",
       "       [[1., 0.]],\n",
       "\n",
       "       [[0., 1.]],\n",
       "\n",
       "       [[1., 0.]],\n",
       "\n",
       "       [[0., 1.]],\n",
       "\n",
       "       [[0., 1.]],\n",
       "\n",
       "       [[1., 0.]],\n",
       "\n",
       "       [[1., 0.]],\n",
       "\n",
       "       [[0., 1.]],\n",
       "\n",
       "       [[1., 0.]],\n",
       "\n",
       "       [[1., 0.]],\n",
       "\n",
       "       [[1., 0.]],\n",
       "\n",
       "       [[1., 0.]],\n",
       "\n",
       "       [[0., 1.]],\n",
       "\n",
       "       [[0., 1.]],\n",
       "\n",
       "       [[1., 0.]],\n",
       "\n",
       "       [[1., 0.]],\n",
       "\n",
       "       [[1., 0.]],\n",
       "\n",
       "       [[1., 0.]],\n",
       "\n",
       "       [[0., 1.]],\n",
       "\n",
       "       [[1., 0.]],\n",
       "\n",
       "       [[1., 0.]],\n",
       "\n",
       "       [[0., 1.]],\n",
       "\n",
       "       [[1., 0.]],\n",
       "\n",
       "       [[0., 1.]],\n",
       "\n",
       "       [[1., 0.]],\n",
       "\n",
       "       [[0., 1.]],\n",
       "\n",
       "       [[1., 0.]],\n",
       "\n",
       "       [[1., 0.]],\n",
       "\n",
       "       [[0., 1.]],\n",
       "\n",
       "       [[1., 0.]],\n",
       "\n",
       "       [[0., 1.]],\n",
       "\n",
       "       [[1., 0.]],\n",
       "\n",
       "       [[1., 0.]],\n",
       "\n",
       "       [[1., 0.]],\n",
       "\n",
       "       [[0., 1.]],\n",
       "\n",
       "       [[0., 1.]],\n",
       "\n",
       "       [[0., 1.]],\n",
       "\n",
       "       [[1., 0.]],\n",
       "\n",
       "       [[0., 1.]],\n",
       "\n",
       "       [[0., 1.]],\n",
       "\n",
       "       [[1., 0.]],\n",
       "\n",
       "       [[0., 1.]],\n",
       "\n",
       "       [[0., 1.]],\n",
       "\n",
       "       [[0., 1.]],\n",
       "\n",
       "       [[1., 0.]],\n",
       "\n",
       "       [[0., 1.]],\n",
       "\n",
       "       [[0., 1.]],\n",
       "\n",
       "       [[0., 1.]],\n",
       "\n",
       "       [[1., 0.]],\n",
       "\n",
       "       [[1., 0.]],\n",
       "\n",
       "       [[0., 1.]],\n",
       "\n",
       "       [[0., 1.]],\n",
       "\n",
       "       [[1., 0.]],\n",
       "\n",
       "       [[0., 1.]],\n",
       "\n",
       "       [[1., 0.]],\n",
       "\n",
       "       [[1., 0.]],\n",
       "\n",
       "       [[0., 1.]],\n",
       "\n",
       "       [[1., 0.]],\n",
       "\n",
       "       [[0., 1.]],\n",
       "\n",
       "       [[1., 0.]],\n",
       "\n",
       "       [[1., 0.]],\n",
       "\n",
       "       [[1., 0.]],\n",
       "\n",
       "       [[0., 1.]],\n",
       "\n",
       "       [[1., 0.]],\n",
       "\n",
       "       [[0., 1.]],\n",
       "\n",
       "       [[1., 0.]]])"
      ]
     },
     "execution_count": 26,
     "metadata": {},
     "output_type": "execute_result"
    }
   ],
   "source": [
    "y_train"
   ]
  },
  {
   "cell_type": "code",
   "execution_count": 10,
   "metadata": {
    "papermill": {
     "duration": 144.013421,
     "end_time": "2021-01-13T19:06:37.972915",
     "exception": false,
     "start_time": "2021-01-13T19:04:13.959494",
     "status": "completed"
    },
    "tags": []
   },
   "outputs": [
    {
     "name": "stderr",
     "output_type": "stream",
     "text": [
      "2021-12-11 10:56:04.494541: I tensorflow/compiler/mlir/mlir_graph_optimization_pass.cc:185] None of the MLIR Optimization Passes are enabled (registered 2)\n"
     ]
    },
    {
     "name": "stdout",
     "output_type": "stream",
     "text": [
      "Epoch 1/100\n"
     ]
    },
    {
     "name": "stderr",
     "output_type": "stream",
     "text": [
      "2021-12-11 10:56:05.411894: I tensorflow/stream_executor/cuda/cuda_dnn.cc:369] Loaded cuDNN version 8204\n",
      "2021-12-11 10:56:05.817554: I tensorflow/core/platform/default/subprocess.cc:304] Start cannot spawn child process: No such file or directory\n",
      "2021-12-11 10:56:06.573829: W tensorflow/core/common_runtime/bfc_allocator.cc:272] Allocator (GPU_0_bfc) ran out of memory trying to allocate 1.31GiB with freed_by_count=0. The caller indicates that this is not a failure, but may mean that there could be performance gains if more memory were available.\n",
      "2021-12-11 10:56:06.573892: W tensorflow/core/common_runtime/bfc_allocator.cc:272] Allocator (GPU_0_bfc) ran out of memory trying to allocate 1.31GiB with freed_by_count=0. The caller indicates that this is not a failure, but may mean that there could be performance gains if more memory were available.\n",
      "2021-12-11 10:56:07.665411: W tensorflow/core/common_runtime/bfc_allocator.cc:272] Allocator (GPU_0_bfc) ran out of memory trying to allocate 1.31GiB with freed_by_count=0. The caller indicates that this is not a failure, but may mean that there could be performance gains if more memory were available.\n",
      "2021-12-11 10:56:07.665468: W tensorflow/core/common_runtime/bfc_allocator.cc:272] Allocator (GPU_0_bfc) ran out of memory trying to allocate 1.31GiB with freed_by_count=0. The caller indicates that this is not a failure, but may mean that there could be performance gains if more memory were available.\n",
      "2021-12-11 10:56:07.755128: W tensorflow/core/common_runtime/bfc_allocator.cc:272] Allocator (GPU_0_bfc) ran out of memory trying to allocate 1.69GiB with freed_by_count=0. The caller indicates that this is not a failure, but may mean that there could be performance gains if more memory were available.\n",
      "2021-12-11 10:56:07.755188: W tensorflow/core/common_runtime/bfc_allocator.cc:272] Allocator (GPU_0_bfc) ran out of memory trying to allocate 1.69GiB with freed_by_count=0. The caller indicates that this is not a failure, but may mean that there could be performance gains if more memory were available.\n"
     ]
    },
    {
     "name": "stdout",
     "output_type": "stream",
     "text": [
      "3/3 [==============================] - 5s 734ms/step - loss: 5.6048 - acc: 0.5225 - val_loss: 11.8225 - val_acc: 0.6429\n",
      "Epoch 2/100\n",
      "3/3 [==============================] - 0s 88ms/step - loss: 5.6277 - acc: 0.6847 - val_loss: 2.3256 - val_acc: 0.7857\n",
      "Epoch 3/100\n",
      "3/3 [==============================] - 0s 88ms/step - loss: 1.5192 - acc: 0.7658 - val_loss: 10.4219 - val_acc: 0.5000\n",
      "Epoch 4/100\n",
      "3/3 [==============================] - 0s 88ms/step - loss: 2.4735 - acc: 0.6577 - val_loss: 1.5831 - val_acc: 0.7143\n",
      "Epoch 5/100\n",
      "3/3 [==============================] - 0s 88ms/step - loss: 1.0029 - acc: 0.8108 - val_loss: 1.3425 - val_acc: 0.8214\n",
      "Epoch 6/100\n",
      "3/3 [==============================] - 0s 99ms/step - loss: 0.9157 - acc: 0.8288 - val_loss: 1.0267 - val_acc: 0.8929\n",
      "Epoch 7/100\n",
      "3/3 [==============================] - 0s 97ms/step - loss: 0.2741 - acc: 0.9189 - val_loss: 1.8343 - val_acc: 0.7500\n",
      "Epoch 8/100\n",
      "3/3 [==============================] - 0s 100ms/step - loss: 0.7627 - acc: 0.8739 - val_loss: 1.2847 - val_acc: 0.8571\n",
      "Epoch 9/100\n",
      "3/3 [==============================] - 0s 99ms/step - loss: 0.2576 - acc: 0.9279 - val_loss: 1.0502 - val_acc: 0.8929\n",
      "Epoch 10/100\n",
      "3/3 [==============================] - 0s 90ms/step - loss: 0.1331 - acc: 0.9820 - val_loss: 1.5005 - val_acc: 0.7857\n",
      "Epoch 11/100\n",
      "3/3 [==============================] - 0s 89ms/step - loss: 0.2548 - acc: 0.9009 - val_loss: 1.1751 - val_acc: 0.8571\n",
      "Epoch 12/100\n",
      "3/3 [==============================] - 0s 88ms/step - loss: 0.0887 - acc: 0.9730 - val_loss: 0.9074 - val_acc: 0.8571\n",
      "Epoch 13/100\n",
      "3/3 [==============================] - 0s 89ms/step - loss: 0.1104 - acc: 0.9730 - val_loss: 0.8868 - val_acc: 0.8214\n",
      "Epoch 14/100\n",
      "3/3 [==============================] - 0s 89ms/step - loss: 0.1081 - acc: 0.9369 - val_loss: 0.8628 - val_acc: 0.8929\n",
      "Epoch 15/100\n",
      "3/3 [==============================] - 0s 89ms/step - loss: 0.0391 - acc: 0.9820 - val_loss: 0.8528 - val_acc: 0.8929\n",
      "Epoch 16/100\n",
      "3/3 [==============================] - 0s 89ms/step - loss: 0.0630 - acc: 0.9640 - val_loss: 0.8514 - val_acc: 0.8929\n",
      "Epoch 17/100\n",
      "3/3 [==============================] - 0s 94ms/step - loss: 0.0637 - acc: 0.9640 - val_loss: 0.8335 - val_acc: 0.8929\n",
      "Epoch 18/100\n",
      "3/3 [==============================] - 0s 94ms/step - loss: 0.1022 - acc: 0.9550 - val_loss: 0.7899 - val_acc: 0.8929\n",
      "Epoch 19/100\n",
      "3/3 [==============================] - 0s 88ms/step - loss: 0.0250 - acc: 0.9910 - val_loss: 0.7562 - val_acc: 0.8929\n",
      "Epoch 20/100\n",
      "3/3 [==============================] - 0s 88ms/step - loss: 0.0058 - acc: 1.0000 - val_loss: 0.7388 - val_acc: 0.8929\n",
      "Epoch 21/100\n",
      "3/3 [==============================] - 0s 89ms/step - loss: 0.0068 - acc: 1.0000 - val_loss: 0.7318 - val_acc: 0.8571\n",
      "Epoch 22/100\n",
      "3/3 [==============================] - 0s 88ms/step - loss: 0.0033 - acc: 1.0000 - val_loss: 0.7292 - val_acc: 0.8571\n",
      "Epoch 23/100\n",
      "3/3 [==============================] - 0s 88ms/step - loss: 0.0066 - acc: 1.0000 - val_loss: 0.7257 - val_acc: 0.8571\n",
      "Epoch 24/100\n",
      "3/3 [==============================] - 0s 88ms/step - loss: 0.0047 - acc: 1.0000 - val_loss: 0.7222 - val_acc: 0.8571\n",
      "Epoch 25/100\n",
      "3/3 [==============================] - 0s 88ms/step - loss: 0.0119 - acc: 1.0000 - val_loss: 0.7171 - val_acc: 0.8571\n",
      "Epoch 26/100\n",
      "3/3 [==============================] - 0s 88ms/step - loss: 0.0072 - acc: 1.0000 - val_loss: 0.7161 - val_acc: 0.8571\n",
      "Epoch 27/100\n",
      "3/3 [==============================] - 0s 89ms/step - loss: 0.0023 - acc: 1.0000 - val_loss: 0.7166 - val_acc: 0.8571\n",
      "Epoch 28/100\n",
      "3/3 [==============================] - 0s 88ms/step - loss: 0.0066 - acc: 1.0000 - val_loss: 0.7225 - val_acc: 0.8571\n",
      "Epoch 29/100\n",
      "3/3 [==============================] - 0s 98ms/step - loss: 0.0027 - acc: 1.0000 - val_loss: 0.7292 - val_acc: 0.8571\n",
      "Epoch 30/100\n",
      "3/3 [==============================] - 0s 95ms/step - loss: 0.0010 - acc: 1.0000 - val_loss: 0.7363 - val_acc: 0.8571\n",
      "Epoch 31/100\n",
      "3/3 [==============================] - 0s 89ms/step - loss: 0.0043 - acc: 1.0000 - val_loss: 0.7397 - val_acc: 0.8571\n",
      "Epoch 32/100\n",
      "3/3 [==============================] - 0s 88ms/step - loss: 0.0048 - acc: 1.0000 - val_loss: 0.7544 - val_acc: 0.8571\n",
      "Epoch 33/100\n",
      "3/3 [==============================] - 0s 89ms/step - loss: 0.0024 - acc: 1.0000 - val_loss: 0.7782 - val_acc: 0.8571\n",
      "Epoch 34/100\n",
      "3/3 [==============================] - 0s 89ms/step - loss: 0.0023 - acc: 1.0000 - val_loss: 0.7917 - val_acc: 0.8571\n",
      "Epoch 35/100\n",
      "3/3 [==============================] - 0s 88ms/step - loss: 0.0025 - acc: 1.0000 - val_loss: 0.7898 - val_acc: 0.8571\n",
      "Epoch 36/100\n",
      "3/3 [==============================] - 0s 89ms/step - loss: 7.7724e-04 - acc: 1.0000 - val_loss: 0.7922 - val_acc: 0.8571\n",
      "Epoch 37/100\n",
      "3/3 [==============================] - 0s 89ms/step - loss: 5.2933e-04 - acc: 1.0000 - val_loss: 0.7945 - val_acc: 0.8571\n",
      "Epoch 38/100\n",
      "3/3 [==============================] - 0s 89ms/step - loss: 0.0024 - acc: 1.0000 - val_loss: 0.8020 - val_acc: 0.8571\n",
      "Epoch 39/100\n",
      "3/3 [==============================] - 0s 89ms/step - loss: 0.0016 - acc: 1.0000 - val_loss: 0.8195 - val_acc: 0.8571\n",
      "Epoch 40/100\n",
      "3/3 [==============================] - 0s 98ms/step - loss: 3.7138e-04 - acc: 1.0000 - val_loss: 0.8384 - val_acc: 0.8571\n",
      "Epoch 41/100\n",
      "3/3 [==============================] - 0s 89ms/step - loss: 0.0020 - acc: 1.0000 - val_loss: 0.8527 - val_acc: 0.8571\n",
      "Epoch 42/100\n",
      "3/3 [==============================] - 0s 89ms/step - loss: 0.0017 - acc: 1.0000 - val_loss: 0.8586 - val_acc: 0.8571\n",
      "Epoch 43/100\n",
      "3/3 [==============================] - 0s 89ms/step - loss: 0.0021 - acc: 1.0000 - val_loss: 0.8568 - val_acc: 0.8571\n",
      "Epoch 44/100\n",
      "3/3 [==============================] - 0s 89ms/step - loss: 0.0033 - acc: 1.0000 - val_loss: 0.8538 - val_acc: 0.8571\n",
      "Epoch 45/100\n",
      "3/3 [==============================] - 0s 89ms/step - loss: 0.0015 - acc: 1.0000 - val_loss: 0.8542 - val_acc: 0.8571\n",
      "Epoch 46/100\n",
      "3/3 [==============================] - 0s 90ms/step - loss: 0.0094 - acc: 1.0000 - val_loss: 0.8452 - val_acc: 0.8571\n",
      "Epoch 47/100\n",
      "3/3 [==============================] - 0s 88ms/step - loss: 0.0014 - acc: 1.0000 - val_loss: 0.8361 - val_acc: 0.8571\n",
      "Epoch 48/100\n",
      "3/3 [==============================] - 0s 90ms/step - loss: 0.0076 - acc: 1.0000 - val_loss: 0.8157 - val_acc: 0.8571\n",
      "Epoch 49/100\n",
      "3/3 [==============================] - 0s 95ms/step - loss: 0.0027 - acc: 1.0000 - val_loss: 0.8077 - val_acc: 0.8571\n",
      "Epoch 50/100\n",
      "3/3 [==============================] - 0s 89ms/step - loss: 0.0010 - acc: 1.0000 - val_loss: 0.8072 - val_acc: 0.8214\n",
      "Epoch 51/100\n",
      "3/3 [==============================] - 0s 88ms/step - loss: 7.7848e-04 - acc: 1.0000 - val_loss: 0.8090 - val_acc: 0.8214\n",
      "Epoch 52/100\n",
      "3/3 [==============================] - 0s 88ms/step - loss: 0.0021 - acc: 1.0000 - val_loss: 0.8155 - val_acc: 0.8214\n",
      "Epoch 53/100\n",
      "3/3 [==============================] - 0s 89ms/step - loss: 0.0012 - acc: 1.0000 - val_loss: 0.8242 - val_acc: 0.8214\n",
      "Epoch 54/100\n",
      "3/3 [==============================] - 0s 89ms/step - loss: 0.0054 - acc: 1.0000 - val_loss: 0.8298 - val_acc: 0.8214\n",
      "Epoch 55/100\n",
      "3/3 [==============================] - 0s 89ms/step - loss: 4.0317e-04 - acc: 1.0000 - val_loss: 0.8249 - val_acc: 0.8214\n",
      "Epoch 56/100\n",
      "3/3 [==============================] - 0s 95ms/step - loss: 0.0071 - acc: 1.0000 - val_loss: 0.8246 - val_acc: 0.8214\n",
      "Epoch 57/100\n",
      "3/3 [==============================] - 0s 99ms/step - loss: 0.0016 - acc: 1.0000 - val_loss: 0.8276 - val_acc: 0.8214\n",
      "Epoch 58/100\n",
      "3/3 [==============================] - 0s 99ms/step - loss: 0.0025 - acc: 1.0000 - val_loss: 0.8311 - val_acc: 0.8214\n",
      "Epoch 59/100\n",
      "3/3 [==============================] - 0s 98ms/step - loss: 0.0066 - acc: 1.0000 - val_loss: 0.8540 - val_acc: 0.8214\n",
      "Epoch 60/100\n",
      "3/3 [==============================] - 0s 99ms/step - loss: 0.0014 - acc: 1.0000 - val_loss: 0.9295 - val_acc: 0.8571\n",
      "Epoch 61/100\n",
      "3/3 [==============================] - 0s 98ms/step - loss: 0.0307 - acc: 0.9910 - val_loss: 0.9383 - val_acc: 0.8571\n",
      "Epoch 62/100\n",
      "3/3 [==============================] - 0s 98ms/step - loss: 0.0017 - acc: 1.0000 - val_loss: 0.8725 - val_acc: 0.8571\n",
      "Epoch 63/100\n",
      "3/3 [==============================] - 0s 98ms/step - loss: 0.0052 - acc: 1.0000 - val_loss: 0.8859 - val_acc: 0.8571\n",
      "Epoch 64/100\n",
      "3/3 [==============================] - 0s 99ms/step - loss: 0.0317 - acc: 0.9820 - val_loss: 0.9301 - val_acc: 0.8571\n",
      "Epoch 65/100\n",
      "3/3 [==============================] - 0s 99ms/step - loss: 0.0146 - acc: 0.9910 - val_loss: 1.0007 - val_acc: 0.8929\n",
      "Epoch 66/100\n",
      "3/3 [==============================] - 0s 97ms/step - loss: 0.0137 - acc: 0.9910 - val_loss: 1.0774 - val_acc: 0.8929\n",
      "Epoch 67/100\n",
      "3/3 [==============================] - 0s 99ms/step - loss: 0.0333 - acc: 0.9910 - val_loss: 1.1769 - val_acc: 0.8571\n",
      "Epoch 68/100\n",
      "3/3 [==============================] - 0s 97ms/step - loss: 0.0028 - acc: 1.0000 - val_loss: 1.2343 - val_acc: 0.8571\n",
      "Epoch 69/100\n",
      "3/3 [==============================] - 0s 98ms/step - loss: 0.0366 - acc: 0.9820 - val_loss: 1.1774 - val_acc: 0.8571\n",
      "Epoch 70/100\n",
      "3/3 [==============================] - 0s 99ms/step - loss: 0.0096 - acc: 1.0000 - val_loss: 1.1230 - val_acc: 0.8571\n",
      "Epoch 71/100\n",
      "3/3 [==============================] - 0s 97ms/step - loss: 0.0025 - acc: 1.0000 - val_loss: 1.0898 - val_acc: 0.8214\n",
      "Epoch 72/100\n",
      "3/3 [==============================] - 0s 98ms/step - loss: 0.0112 - acc: 0.9910 - val_loss: 1.0532 - val_acc: 0.8214\n",
      "Epoch 73/100\n",
      "3/3 [==============================] - 0s 98ms/step - loss: 0.0310 - acc: 0.9910 - val_loss: 0.9906 - val_acc: 0.8571\n",
      "Epoch 74/100\n",
      "3/3 [==============================] - 0s 98ms/step - loss: 0.0013 - acc: 1.0000 - val_loss: 0.9831 - val_acc: 0.8571\n",
      "Epoch 75/100\n",
      "3/3 [==============================] - 0s 99ms/step - loss: 8.4986e-04 - acc: 1.0000 - val_loss: 0.9957 - val_acc: 0.8571\n",
      "Epoch 76/100\n",
      "3/3 [==============================] - 0s 97ms/step - loss: 0.0040 - acc: 1.0000 - val_loss: 0.9967 - val_acc: 0.8214\n",
      "Epoch 77/100\n",
      "3/3 [==============================] - 0s 98ms/step - loss: 0.0436 - acc: 0.9910 - val_loss: 0.9748 - val_acc: 0.8214\n",
      "Epoch 78/100\n",
      "3/3 [==============================] - 0s 99ms/step - loss: 0.0085 - acc: 0.9910 - val_loss: 0.9468 - val_acc: 0.8214\n",
      "Epoch 79/100\n",
      "3/3 [==============================] - 0s 99ms/step - loss: 0.0019 - acc: 1.0000 - val_loss: 0.9385 - val_acc: 0.8214\n",
      "Epoch 80/100\n",
      "3/3 [==============================] - 0s 99ms/step - loss: 0.0246 - acc: 0.9910 - val_loss: 0.9625 - val_acc: 0.8214\n",
      "Epoch 81/100\n",
      "3/3 [==============================] - 0s 91ms/step - loss: 0.0143 - acc: 0.9910 - val_loss: 1.0239 - val_acc: 0.8214\n",
      "Epoch 82/100\n",
      "3/3 [==============================] - 0s 89ms/step - loss: 9.1206e-04 - acc: 1.0000 - val_loss: 1.0901 - val_acc: 0.8571\n",
      "Epoch 83/100\n",
      "3/3 [==============================] - 0s 91ms/step - loss: 8.3023e-04 - acc: 1.0000 - val_loss: 1.1458 - val_acc: 0.8571\n",
      "Epoch 84/100\n",
      "3/3 [==============================] - 0s 90ms/step - loss: 8.2143e-04 - acc: 1.0000 - val_loss: 1.1901 - val_acc: 0.8214\n",
      "Epoch 85/100\n",
      "3/3 [==============================] - 0s 91ms/step - loss: 0.0048 - acc: 1.0000 - val_loss: 1.1942 - val_acc: 0.8214\n",
      "Epoch 86/100\n",
      "3/3 [==============================] - 0s 89ms/step - loss: 0.0044 - acc: 1.0000 - val_loss: 1.1637 - val_acc: 0.8571\n",
      "Epoch 87/100\n",
      "3/3 [==============================] - 0s 94ms/step - loss: 7.3997e-04 - acc: 1.0000 - val_loss: 1.1379 - val_acc: 0.8929\n",
      "Epoch 88/100\n",
      "3/3 [==============================] - 0s 92ms/step - loss: 3.6083e-04 - acc: 1.0000 - val_loss: 1.1230 - val_acc: 0.8929\n",
      "Epoch 89/100\n",
      "3/3 [==============================] - 0s 91ms/step - loss: 0.0016 - acc: 1.0000 - val_loss: 1.1086 - val_acc: 0.8929\n",
      "Epoch 90/100\n",
      "3/3 [==============================] - 0s 93ms/step - loss: 0.0011 - acc: 1.0000 - val_loss: 1.0916 - val_acc: 0.8929\n",
      "Epoch 91/100\n",
      "3/3 [==============================] - 0s 92ms/step - loss: 0.0102 - acc: 0.9910 - val_loss: 1.0890 - val_acc: 0.8929\n",
      "Epoch 92/100\n",
      "3/3 [==============================] - 0s 98ms/step - loss: 0.0023 - acc: 1.0000 - val_loss: 1.0789 - val_acc: 0.8929\n",
      "Epoch 93/100\n",
      "3/3 [==============================] - 0s 96ms/step - loss: 0.0014 - acc: 1.0000 - val_loss: 1.0801 - val_acc: 0.8929\n",
      "Epoch 94/100\n",
      "3/3 [==============================] - 0s 97ms/step - loss: 0.0190 - acc: 0.9910 - val_loss: 1.1811 - val_acc: 0.8929\n",
      "Epoch 95/100\n",
      "3/3 [==============================] - 0s 88ms/step - loss: 5.4039e-05 - acc: 1.0000 - val_loss: 1.2596 - val_acc: 0.8929\n",
      "Epoch 96/100\n",
      "3/3 [==============================] - 0s 88ms/step - loss: 0.0011 - acc: 1.0000 - val_loss: 1.3239 - val_acc: 0.8929\n",
      "Epoch 97/100\n",
      "3/3 [==============================] - 0s 89ms/step - loss: 2.8361e-04 - acc: 1.0000 - val_loss: 1.3694 - val_acc: 0.8929\n",
      "Epoch 98/100\n",
      "3/3 [==============================] - 0s 88ms/step - loss: 0.0063 - acc: 1.0000 - val_loss: 1.4031 - val_acc: 0.8929\n",
      "Epoch 99/100\n",
      "3/3 [==============================] - 0s 89ms/step - loss: 4.7534e-04 - acc: 1.0000 - val_loss: 1.4283 - val_acc: 0.8929\n",
      "Epoch 100/100\n",
      "3/3 [==============================] - 0s 94ms/step - loss: 0.0017 - acc: 1.0000 - val_loss: 1.4303 - val_acc: 0.8929\n"
     ]
    }
   ],
   "source": [
    "history = model.fit(x_train, y_train, epochs = 100, batch_size = 50,validation_data = (x_test, y_test))"
   ]
  },
  {
   "cell_type": "markdown",
   "metadata": {
    "papermill": {
     "duration": 0.068349,
     "end_time": "2021-01-13T19:06:38.108121",
     "exception": false,
     "start_time": "2021-01-13T19:06:38.039772",
     "status": "completed"
    },
    "tags": []
   },
   "source": [
    "# Plotting Losses"
   ]
  },
  {
   "cell_type": "code",
   "execution_count": 11,
   "metadata": {
    "papermill": {
     "duration": 0.31992,
     "end_time": "2021-01-13T19:06:38.496105",
     "exception": false,
     "start_time": "2021-01-13T19:06:38.176185",
     "status": "completed"
    },
    "tags": []
   },
   "outputs": [
    {
     "data": {
      "image/png": "[encoded data removed]",
      "text/plain": [
       "<Figure size 864x360 with 1 Axes>"
      ]
     },
     "metadata": {
      "needs_background": "light"
     },
     "output_type": "display_data"
    }
   ],
   "source": [
    "plt.figure(figsize = (12, 5))\n",
    "plt.plot(history.history['loss'])\n",
    "plt.plot(history.history['val_loss'])\n",
    "plt.title('Model Loss')\n",
    "plt.ylabel('Loss')\n",
    "plt.xlabel('Epoch')\n",
    "plt.legend(['Test', 'Validation'], loc='upper right')\n",
    "plt.show()"
   ]
  },
  {
   "cell_type": "code",
   "execution_count": 12,
   "metadata": {},
   "outputs": [
    {
     "data": {
      "image/png": "[encoded data removed]",
      "text/plain": [
       "<Figure size 864x360 with 1 Axes>"
      ]
     },
     "metadata": {
      "needs_background": "light"
     },
     "output_type": "display_data"
    }
   ],
   "source": [
    "plt.figure(figsize = (12, 5))\n",
    "plt.plot(history.history['acc'])\n",
    "plt.plot(history.history['val_acc'])\n",
    "plt.title('Model Accuracy')\n",
    "plt.ylabel('Accuracy')\n",
    "plt.xlabel('Epoch')\n",
    "plt.legend(['Test', 'Validation'], loc='lower right')\n",
    "plt.show()"
   ]
  },
  {
   "cell_type": "code",
   "execution_count": 13,
   "metadata": {},
   "outputs": [],
   "source": [
    "model.save('./FinalModel.h5')"
   ]
  }
 ],
 "metadata": {
  "kernelspec": {
   "display_name": "Python 3 (ipykernel)",
   "language": "python",
   "name": "python3"
  },
  "language_info": {
   "codemirror_mode": {
    "name": "ipython",
    "version": 3
   },
   "file_extension": ".py",
   "mimetype": "text/x-python",
   "name": "python",
   "nbconvert_exporter": "python",
   "pygments_lexer": "ipython3",
   "version": "3.8.8"
  },
  "papermill": {
   "duration": 163.388087,
   "end_time": "2021-01-13T19:06:40.018519",
   "environment_variables": {},
   "exception": null,
   "input_path": "__notebook__.ipynb",
   "output_path": "__notebook__.ipynb",
   "parameters": {},
   "start_time": "2021-01-13T19:03:56.630432",
   "version": "2.1.0"
  }
 },
 "nbformat": 4,
 "nbformat_minor": 4
}
