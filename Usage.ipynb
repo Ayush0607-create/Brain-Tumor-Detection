{
 "cells": [
  {
   "cell_type": "code",
   "execution_count": 18,
   "id": "ddc01b43-222b-4751-bc47-6930b7cc2427",
   "metadata": {},
   "outputs": [],
   "source": [
    "# conda install -c conda-forge ipywidgets\n",
    "import ipywidgets as widgets\n",
    "import numpy as np\n",
    "from IPython.display import display, clear_output\n",
    "from time import sleep\n",
    "import xgboost"
   ]
  },
  {
   "cell_type": "code",
   "execution_count": 19,
   "id": "6a57dc3a-7371-4851-bcfd-5e862b2bdc99",
   "metadata": {},
   "outputs": [],
   "source": [
    "model = xgboost.XGBRegressor()\n",
    "model.load_model('Model.txt')"
   ]
  },
  {
   "cell_type": "code",
   "execution_count": 50,
   "id": "01895ad2-43d0-4ac3-97e8-0107e639f057",
   "metadata": {},
   "outputs": [],
   "source": [
    "mean = widgets.FloatSlider(\n",
    "    min=0,\n",
    "    max=1,\n",
    "    step=0.001,\n",
    "    value = np.random.rand(),\n",
    "    description='Mean',\n",
    ")\n",
    "variance = widgets.FloatSlider(\n",
    "    min=0,\n",
    "    max=1,\n",
    "    step=0.001,\n",
    "    value = np.random.rand(),\n",
    "    description='Variance',\n",
    ")\n",
    "SD = widgets.FloatSlider(\n",
    "    min=0,\n",
    "    max=1,\n",
    "    step=0.001,\n",
    "    value = np.random.rand(),\n",
    "    description='Standard Deviation',\n",
    ")\n",
    "entropy = widgets.FloatSlider(\n",
    "    min=0,\n",
    "    max=1,\n",
    "    step=0.001,\n",
    "    value = np.random.rand(),\n",
    "    description='Entropy',\n",
    ")\n",
    "skewness = widgets.FloatSlider(\n",
    "    min=0,\n",
    "    max=1,\n",
    "    step=0.001,\n",
    "    value = np.random.rand(),\n",
    "    description='Skewness',\n",
    ")\n",
    "kurtosis = widgets.FloatSlider(\n",
    "    min=0,\n",
    "    max=1,\n",
    "    step=0.001,\n",
    "    value = np.random.rand(),\n",
    "    description='Kurotis',\n",
    ")\n",
    "contrast = widgets.FloatSlider(\n",
    "    min=0,\n",
    "    max=1,\n",
    "    step=0.001,\n",
    "    value = np.random.rand(),\n",
    "    description='Contrast',\n",
    ")\n",
    "energy = widgets.FloatSlider(\n",
    "    min=0,\n",
    "    max=1,\n",
    "    step=0.001,\n",
    "    value = np.random.rand(),\n",
    "    description='Energy',\n",
    ")\n",
    "ASM = widgets.FloatSlider(\n",
    "    min=0,\n",
    "    max=1,\n",
    "    step=0.001,\n",
    "    value = np.random.rand(),\n",
    "    description='ASM',\n",
    ")\n",
    "homoeniety = widgets.FloatSlider(\n",
    "    min=0,\n",
    "    max=1,\n",
    "    step=0.001,\n",
    "    value = np.random.rand(),\n",
    "    description='Homoeniety',\n",
    ")\n",
    "dissimilarity = widgets.FloatSlider(\n",
    "    min=0,\n",
    "    max=1,\n",
    "    step=0.001,\n",
    "    value = np.random.rand(),\n",
    "    description='Dissimilarity',\n",
    ")\n",
    "correlation = widgets.FloatSlider(\n",
    "    min=0,\n",
    "    max=1,\n",
    "    step=0.001,\n",
    "    value = np.random.rand(),\n",
    "    description='Correlation',\n",
    ")\n",
    "coarseness = widgets.FloatSlider(\n",
    "    min=0,\n",
    "    max=1,\n",
    "    step=0.001,\n",
    "    value = np.random.rand(),\n",
    "    description='Coarseness',\n",
    ")\n",
    "\n",
    "widgets_list = [mean, variance, SD, entropy, skewness, kurtosis, coarseness, contrast, energy, ASM, homoeniety, dissimilarity, correlation]"
   ]
  },
  {
   "cell_type": "code",
   "execution_count": 51,
   "id": "a1782b7d-85e8-4ef5-a30b-81cdd4c77def",
   "metadata": {},
   "outputs": [
    {
     "data": {
      "application/vnd.jupyter.widget-view+json": {
       "model_id": "f2150a81ee894df4a34ca799559cb5e4",
       "version_major": 2,
       "version_minor": 0
      },
      "text/plain": [
       "FloatSlider(value=0.5300362102350503, description='Mean', max=1.0, step=0.001)"
      ]
     },
     "metadata": {},
     "output_type": "display_data"
    },
    {
     "data": {
      "application/vnd.jupyter.widget-view+json": {
       "model_id": "ba3bfd21db584b9bac506b6c5096a451",
       "version_major": 2,
       "version_minor": 0
      },
      "text/plain": [
       "FloatSlider(value=0.6516972723475393, description='Variance', max=1.0, step=0.001)"
      ]
     },
     "metadata": {},
     "output_type": "display_data"
    },
    {
     "data": {
      "application/vnd.jupyter.widget-view+json": {
       "model_id": "6b149a4caacc43e9962e2c499a8e224a",
       "version_major": 2,
       "version_minor": 0
      },
      "text/plain": [
       "FloatSlider(value=0.41525181896468233, description='Standard Deviation', max=1.0, step=0.001)"
      ]
     },
     "metadata": {},
     "output_type": "display_data"
    },
    {
     "data": {
      "application/vnd.jupyter.widget-view+json": {
       "model_id": "8aa679e3882549a783c04b634c00b2f7",
       "version_major": 2,
       "version_minor": 0
      },
      "text/plain": [
       "FloatSlider(value=0.05032326919802044, description='Entropy', max=1.0, step=0.001)"
      ]
     },
     "metadata": {},
     "output_type": "display_data"
    },
    {
     "data": {
      "application/vnd.jupyter.widget-view+json": {
       "model_id": "fbf1866243204ff2add85214377285fb",
       "version_major": 2,
       "version_minor": 0
      },
      "text/plain": [
       "FloatSlider(value=0.5392320189097435, description='Skewness', max=1.0, step=0.001)"
      ]
     },
     "metadata": {},
     "output_type": "display_data"
    },
    {
     "data": {
      "application/vnd.jupyter.widget-view+json": {
       "model_id": "89c6819bf2cc48909249181cbdce8fcc",
       "version_major": 2,
       "version_minor": 0
      },
      "text/plain": [
       "FloatSlider(value=0.7059947780993027, description='Kurotis', max=1.0, step=0.001)"
      ]
     },
     "metadata": {},
     "output_type": "display_data"
    },
    {
     "data": {
      "application/vnd.jupyter.widget-view+json": {
       "model_id": "92d4606e82ed4c4cb4e0b7a306f4bfbc",
       "version_major": 2,
       "version_minor": 0
      },
      "text/plain": [
       "FloatSlider(value=0.9505334910501092, description='Coarseness', max=1.0, step=0.001)"
      ]
     },
     "metadata": {},
     "output_type": "display_data"
    },
    {
     "data": {
      "application/vnd.jupyter.widget-view+json": {
       "model_id": "0100d92c05384c748298f80825bcae0e",
       "version_major": 2,
       "version_minor": 0
      },
      "text/plain": [
       "FloatSlider(value=0.43260127259091097, description='Contrast', max=1.0, step=0.001)"
      ]
     },
     "metadata": {},
     "output_type": "display_data"
    },
    {
     "data": {
      "application/vnd.jupyter.widget-view+json": {
       "model_id": "5eaeea8c42154621af496d47804d72df",
       "version_major": 2,
       "version_minor": 0
      },
      "text/plain": [
       "FloatSlider(value=0.9560259664046011, description='Energy', max=1.0, step=0.001)"
      ]
     },
     "metadata": {},
     "output_type": "display_data"
    },
    {
     "data": {
      "application/vnd.jupyter.widget-view+json": {
       "model_id": "36292a2eb0884f65b177734c82b581d8",
       "version_major": 2,
       "version_minor": 0
      },
      "text/plain": [
       "FloatSlider(value=0.04111971360068545, description='ASM', max=1.0, step=0.001)"
      ]
     },
     "metadata": {},
     "output_type": "display_data"
    },
    {
     "data": {
      "application/vnd.jupyter.widget-view+json": {
       "model_id": "999d799e366c468b9efc4c52f842ccb0",
       "version_major": 2,
       "version_minor": 0
      },
      "text/plain": [
       "FloatSlider(value=0.7733827689104856, description='Homoeniety', max=1.0, step=0.001)"
      ]
     },
     "metadata": {},
     "output_type": "display_data"
    },
    {
     "data": {
      "application/vnd.jupyter.widget-view+json": {
       "model_id": "f48e87e429494f4ca016cf03f7650fa9",
       "version_major": 2,
       "version_minor": 0
      },
      "text/plain": [
       "FloatSlider(value=0.5421870381733017, description='Dissimilarity', max=1.0, step=0.001)"
      ]
     },
     "metadata": {},
     "output_type": "display_data"
    },
    {
     "data": {
      "application/vnd.jupyter.widget-view+json": {
       "model_id": "5151a535ea7e41c9a755eedf5b5fdbd0",
       "version_major": 2,
       "version_minor": 0
      },
      "text/plain": [
       "FloatSlider(value=0.2736408781364771, description='Correlation', max=1.0, step=0.001)"
      ]
     },
     "metadata": {},
     "output_type": "display_data"
    }
   ],
   "source": [
    "for i in widgets_list:\n",
    "    display(i)"
   ]
  },
  {
   "cell_type": "code",
   "execution_count": 52,
   "id": "519a28d4-25b4-4a13-85ac-739f186ab4dc",
   "metadata": {},
   "outputs": [
    {
     "data": {
      "application/vnd.jupyter.widget-view+json": {
       "model_id": "a806571f523d48dd8bc54adbcd62f20e",
       "version_major": 2,
       "version_minor": 0
      },
      "text/plain": [
       "Button(description='Predict', style=ButtonStyle())"
      ]
     },
     "metadata": {},
     "output_type": "display_data"
    },
    {
     "data": {
      "application/vnd.jupyter.widget-view+json": {
       "model_id": "a2ab8ff72fbc4a8f819160df347c2f33",
       "version_major": 2,
       "version_minor": 0
      },
      "text/plain": [
       "Output()"
      ]
     },
     "metadata": {},
     "output_type": "display_data"
    }
   ],
   "source": [
    "# Predict\n",
    "button = widgets.Button(description=\"Predict\")\n",
    "output = widgets.Output()\n",
    "\n",
    "display(button, output)\n",
    "\n",
    "def predict(Some):\n",
    "    with output:\n",
    "        clear_output()\n",
    "        print(round(model.predict(np.array([i.value for i in widgets_list]).reshape(1,13))[0]))\n",
    "\n",
    "button.on_click(predict)"
   ]
  },
  {
   "cell_type": "code",
   "execution_count": null,
   "id": "16445682-2f0b-4c52-8570-5b72cd46a10e",
   "metadata": {},
   "outputs": [],
   "source": []
  }
 ],
 "metadata": {
  "kernelspec": {
   "display_name": "Python 3",
   "language": "python",
   "name": "python3"
  },
  "language_info": {
   "codemirror_mode": {
    "name": "ipython",
    "version": 3
   },
   "file_extension": ".py",
   "mimetype": "text/x-python",
   "name": "python",
   "nbconvert_exporter": "python",
   "pygments_lexer": "ipython3",
   "version": "3.8.8"
  }
 },
 "nbformat": 4,
 "nbformat_minor": 5
}
